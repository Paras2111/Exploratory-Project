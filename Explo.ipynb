{
  "nbformat": 4,
  "nbformat_minor": 0,
  "metadata": {
    "colab": {
      "provenance": [],
      "include_colab_link": true
    },
    "kernelspec": {
      "name": "python3",
      "display_name": "Python 3"
    },
    "language_info": {
      "name": "python"
    }
  },
  "cells": [
    {
      "cell_type": "markdown",
      "metadata": {
        "id": "view-in-github",
        "colab_type": "text"
      },
      "source": [
        "<a href=\"https://colab.research.google.com/github/Paras2111/Exploratory-Project/blob/main/Explo.ipynb\" target=\"_parent\"><img src=\"https://colab.research.google.com/assets/colab-badge.svg\" alt=\"Open In Colab\"/></a>"
      ]
    },
    {
      "cell_type": "markdown",
      "metadata": {
        "id": "DTtaqC01d_YA"
      },
      "source": [
        "# New Section"
      ]
    },
    {
      "cell_type": "code",
      "metadata": {
        "id": "Q7QLXp2r0Bpk"
      },
      "source": [
        "import numpy as np \n",
        "import pandas as pd \n",
        "import matplotlib.pyplot as plt \n",
        "from sklearn.preprocessing import MinMaxScaler\n",
        "from keras.models import Sequential\n",
        "from keras.layers import Dense,LSTM,Dropout"
      ],
      "execution_count": null,
      "outputs": []
    },
    {
      "cell_type": "code",
      "metadata": {
        "colab": {
          "base_uri": "https://localhost:8080/",
          "height": 206
        },
        "id": "TXW3K8skXQqm",
        "outputId": "984e4528-5d27-4cfc-afc1-8c85eadca621"
      },
      "source": [
        "data = pd.read_csv('Google_train_data.csv')\n",
        "data.head()"
      ],
      "execution_count": null,
      "outputs": [
        {
          "output_type": "execute_result",
          "data": {
            "text/html": [
              "<div>\n",
              "<style scoped>\n",
              "    .dataframe tbody tr th:only-of-type {\n",
              "        vertical-align: middle;\n",
              "    }\n",
              "\n",
              "    .dataframe tbody tr th {\n",
              "        vertical-align: top;\n",
              "    }\n",
              "\n",
              "    .dataframe thead th {\n",
              "        text-align: right;\n",
              "    }\n",
              "</style>\n",
              "<table border=\"1\" class=\"dataframe\">\n",
              "  <thead>\n",
              "    <tr style=\"text-align: right;\">\n",
              "      <th></th>\n",
              "      <th>Date</th>\n",
              "      <th>Open</th>\n",
              "      <th>High</th>\n",
              "      <th>Low</th>\n",
              "      <th>Close</th>\n",
              "      <th>Volume</th>\n",
              "    </tr>\n",
              "  </thead>\n",
              "  <tbody>\n",
              "    <tr>\n",
              "      <th>0</th>\n",
              "      <td>1/3/2012</td>\n",
              "      <td>325.25</td>\n",
              "      <td>332.83</td>\n",
              "      <td>324.97</td>\n",
              "      <td>663.59</td>\n",
              "      <td>7,380,500</td>\n",
              "    </tr>\n",
              "    <tr>\n",
              "      <th>1</th>\n",
              "      <td>1/4/2012</td>\n",
              "      <td>331.27</td>\n",
              "      <td>333.87</td>\n",
              "      <td>329.08</td>\n",
              "      <td>666.45</td>\n",
              "      <td>5,749,400</td>\n",
              "    </tr>\n",
              "    <tr>\n",
              "      <th>2</th>\n",
              "      <td>1/5/2012</td>\n",
              "      <td>329.83</td>\n",
              "      <td>330.75</td>\n",
              "      <td>326.89</td>\n",
              "      <td>657.21</td>\n",
              "      <td>6,590,300</td>\n",
              "    </tr>\n",
              "    <tr>\n",
              "      <th>3</th>\n",
              "      <td>1/6/2012</td>\n",
              "      <td>328.34</td>\n",
              "      <td>328.77</td>\n",
              "      <td>323.68</td>\n",
              "      <td>648.24</td>\n",
              "      <td>5,405,900</td>\n",
              "    </tr>\n",
              "    <tr>\n",
              "      <th>4</th>\n",
              "      <td>1/9/2012</td>\n",
              "      <td>322.04</td>\n",
              "      <td>322.29</td>\n",
              "      <td>309.46</td>\n",
              "      <td>620.76</td>\n",
              "      <td>11,688,800</td>\n",
              "    </tr>\n",
              "  </tbody>\n",
              "</table>\n",
              "</div>"
            ],
            "text/plain": [
              "       Date    Open    High     Low   Close      Volume\n",
              "0  1/3/2012  325.25  332.83  324.97  663.59   7,380,500\n",
              "1  1/4/2012  331.27  333.87  329.08  666.45   5,749,400\n",
              "2  1/5/2012  329.83  330.75  326.89  657.21   6,590,300\n",
              "3  1/6/2012  328.34  328.77  323.68  648.24   5,405,900\n",
              "4  1/9/2012  322.04  322.29  309.46  620.76  11,688,800"
            ]
          },
          "metadata": {},
          "execution_count": 36
        }
      ]
    },
    {
      "cell_type": "code",
      "metadata": {
        "colab": {
          "base_uri": "https://localhost:8080/"
        },
        "id": "MGHnFsJ_2L71",
        "outputId": "dadb3e35-a8c9-4b94-f8b8-3e0238b238c2"
      },
      "source": [
        "data.info()"
      ],
      "execution_count": null,
      "outputs": [
        {
          "output_type": "stream",
          "name": "stdout",
          "text": [
            "<class 'pandas.core.frame.DataFrame'>\n",
            "RangeIndex: 1258 entries, 0 to 1257\n",
            "Data columns (total 6 columns):\n",
            " #   Column  Non-Null Count  Dtype  \n",
            "---  ------  --------------  -----  \n",
            " 0   Date    1258 non-null   object \n",
            " 1   Open    1258 non-null   float64\n",
            " 2   High    1258 non-null   float64\n",
            " 3   Low     1258 non-null   float64\n",
            " 4   Close   1258 non-null   object \n",
            " 5   Volume  1258 non-null   object \n",
            "dtypes: float64(3), object(3)\n",
            "memory usage: 59.1+ KB\n"
          ]
        }
      ]
    },
    {
      "cell_type": "code",
      "metadata": {
        "id": "D-d6SRxY2Zwj"
      },
      "source": [
        "data[\"Close\"]=pd.to_numeric(data.Close,errors='coerce') \n",
        "data = data.dropna() \n",
        "trainData = data.iloc[:,4:5].values "
      ],
      "execution_count": null,
      "outputs": []
    },
    {
      "cell_type": "code",
      "metadata": {
        "colab": {
          "base_uri": "https://localhost:8080/"
        },
        "id": "4oWqSDuA2d3a",
        "outputId": "2af7ef6d-c80d-41ed-9d17-72c454766b10"
      },
      "source": [
        "data.info() "
      ],
      "execution_count": null,
      "outputs": [
        {
          "output_type": "stream",
          "name": "stdout",
          "text": [
            "<class 'pandas.core.frame.DataFrame'>\n",
            "Int64Index: 1149 entries, 0 to 1257\n",
            "Data columns (total 6 columns):\n",
            " #   Column  Non-Null Count  Dtype  \n",
            "---  ------  --------------  -----  \n",
            " 0   Date    1149 non-null   object \n",
            " 1   Open    1149 non-null   float64\n",
            " 2   High    1149 non-null   float64\n",
            " 3   Low     1149 non-null   float64\n",
            " 4   Close   1149 non-null   float64\n",
            " 5   Volume  1149 non-null   object \n",
            "dtypes: float64(4), object(2)\n",
            "memory usage: 62.8+ KB\n"
          ]
        }
      ]
    },
    {
      "cell_type": "code",
      "metadata": {
        "colab": {
          "base_uri": "https://localhost:8080/"
        },
        "id": "Yi9p6I8o2fuN",
        "outputId": "8796a2e7-6ae8-4035-b1f6-e7e832c8863c"
      },
      "source": [
        "sc = MinMaxScaler(feature_range=(0,1))  \n",
        "trainData = sc.fit_transform(trainData)  \n",
        "trainData.shape                      "
      ],
      "execution_count": null,
      "outputs": [
        {
          "output_type": "execute_result",
          "data": {
            "text/plain": [
              "(1149, 1)"
            ]
          },
          "metadata": {},
          "execution_count": 40
        }
      ]
    },
    {
      "cell_type": "code",
      "metadata": {
        "colab": {
          "base_uri": "https://localhost:8080/"
        },
        "id": "RYFiVNQYaexL",
        "outputId": "d653d074-db80-4364-a002-d98bf370240b"
      },
      "source": [
        "trainData\n",
        "\n"
      ],
      "execution_count": null,
      "outputs": [
        {
          "output_type": "execute_result",
          "data": {
            "text/plain": [
              "array([[0.40001392],\n",
              "       [0.40665027],\n",
              "       [0.38520976],\n",
              "       ...,\n",
              "       [0.68184982],\n",
              "       [0.67660572],\n",
              "       [0.65115092]])"
            ]
          },
          "metadata": {},
          "execution_count": 41
        }
      ]
    },
    {
      "cell_type": "code",
      "metadata": {
        "id": "CYvh73ui2jWP",
        "colab": {
          "base_uri": "https://localhost:8080/"
        },
        "outputId": "7e26e6b2-622f-4abd-ceba-fdce4b46cb16"
      },
      "source": [
        "X_train = []                 \n",
        "y_train = []\n",
        "\n",
        "for i in range (60,1149): \n",
        "    X_train.append(trainData[i-60:i,0]) \n",
        "    y_train.append(trainData[i,0])\n",
        "\n",
        "X_train,y_train = np.array(X_train),np.array(y_train) \n",
        "print(X_train)"
      ],
      "execution_count": null,
      "outputs": [
        {
          "output_type": "stream",
          "name": "stdout",
          "text": [
            "[[0.40001392 0.40665027 0.38520976 ... 0.36279469 0.35745777 0.37766846]\n",
            " [0.40665027 0.38520976 0.36439577 ... 0.35745777 0.37766846 0.36065992]\n",
            " [0.38520976 0.36439577 0.30063115 ... 0.37766846 0.36065992 0.34406906]\n",
            " ...\n",
            " [0.65286802 0.66184797 0.66194078 ... 0.69625951 0.69312697 0.69693243]\n",
            " [0.66184797 0.66194078 0.66284574 ... 0.69312697 0.69693243 0.68184982]\n",
            " [0.66194078 0.66284574 0.65871543 ... 0.69693243 0.68184982 0.67660572]]\n"
          ]
        }
      ]
    },
    {
      "cell_type": "code",
      "metadata": {
        "colab": {
          "base_uri": "https://localhost:8080/"
        },
        "id": "83I7lm922mA-",
        "outputId": "fc23e89c-b400-40b9-f02e-63b6c0456557"
      },
      "source": [
        "X_train = np.reshape(X_train,(X_train.shape[0],X_train.shape[1],1)) \n",
        "X_train.shape                  "
      ],
      "execution_count": null,
      "outputs": [
        {
          "output_type": "execute_result",
          "data": {
            "text/plain": [
              "(1089, 60, 1)"
            ]
          },
          "metadata": {},
          "execution_count": 43
        }
      ]
    },
    {
      "cell_type": "code",
      "metadata": {
        "id": "bMcIOLmH2pln"
      },
      "source": [
        "model = Sequential()  \n",
        "model.add(LSTM(units=100, return_sequences = True, input_shape =(X_train.shape[1],1)))\n",
        "model.add(Dropout(0.2)) \n",
        "\n",
        "model.add(LSTM(units=100, return_sequences = True))\n",
        "model.add(Dropout(0.2))\n",
        "\n",
        "model.add(LSTM(units=100, return_sequences = True))\n",
        "model.add(Dropout(0.2))\n",
        "\n",
        "model.add(LSTM(units=100, return_sequences = False))\n",
        "model.add(Dropout(0.2))\n",
        "\n",
        "model.add(Dense(units =1)) \n",
        "model.compile(optimizer='adam',loss=\"mean_squared_error\")  "
      ],
      "execution_count": null,
      "outputs": []
    },
    {
      "cell_type": "code",
      "metadata": {
        "colab": {
          "base_uri": "https://localhost:8080/"
        },
        "id": "dikzKOBm2tZT",
        "outputId": "48eb0749-4c2a-47e6-bc00-67a9b7e71f24"
      },
      "source": [
        "hist = model.fit(X_train, y_train, epochs = 50, batch_size = 32, verbose=2)     "
      ],
      "execution_count": null,
      "outputs": [
        {
          "output_type": "stream",
          "name": "stdout",
          "text": [
            "Epoch 1/50\n",
            "35/35 - 14s - loss: 0.0313 - 14s/epoch - 386ms/step\n",
            "Epoch 2/50\n",
            "35/35 - 7s - loss: 0.0116 - 7s/epoch - 193ms/step\n",
            "Epoch 3/50\n",
            "35/35 - 7s - loss: 0.0120 - 7s/epoch - 193ms/step\n",
            "Epoch 4/50\n",
            "35/35 - 7s - loss: 0.0080 - 7s/epoch - 194ms/step\n",
            "Epoch 5/50\n",
            "35/35 - 7s - loss: 0.0071 - 7s/epoch - 193ms/step\n",
            "Epoch 6/50\n",
            "35/35 - 7s - loss: 0.0068 - 7s/epoch - 193ms/step\n",
            "Epoch 7/50\n",
            "35/35 - 7s - loss: 0.0062 - 7s/epoch - 193ms/step\n",
            "Epoch 8/50\n",
            "35/35 - 7s - loss: 0.0064 - 7s/epoch - 193ms/step\n",
            "Epoch 9/50\n",
            "35/35 - 7s - loss: 0.0075 - 7s/epoch - 194ms/step\n",
            "Epoch 10/50\n",
            "35/35 - 7s - loss: 0.0060 - 7s/epoch - 192ms/step\n",
            "Epoch 11/50\n",
            "35/35 - 7s - loss: 0.0060 - 7s/epoch - 192ms/step\n",
            "Epoch 12/50\n",
            "35/35 - 7s - loss: 0.0062 - 7s/epoch - 195ms/step\n",
            "Epoch 13/50\n",
            "35/35 - 7s - loss: 0.0072 - 7s/epoch - 193ms/step\n",
            "Epoch 14/50\n",
            "35/35 - 7s - loss: 0.0054 - 7s/epoch - 194ms/step\n",
            "Epoch 15/50\n",
            "35/35 - 7s - loss: 0.0058 - 7s/epoch - 195ms/step\n",
            "Epoch 16/50\n",
            "35/35 - 7s - loss: 0.0061 - 7s/epoch - 193ms/step\n",
            "Epoch 17/50\n",
            "35/35 - 7s - loss: 0.0056 - 7s/epoch - 194ms/step\n",
            "Epoch 18/50\n",
            "35/35 - 7s - loss: 0.0046 - 7s/epoch - 193ms/step\n",
            "Epoch 19/50\n",
            "35/35 - 7s - loss: 0.0045 - 7s/epoch - 193ms/step\n",
            "Epoch 20/50\n",
            "35/35 - 7s - loss: 0.0047 - 7s/epoch - 193ms/step\n",
            "Epoch 21/50\n",
            "35/35 - 7s - loss: 0.0047 - 7s/epoch - 194ms/step\n",
            "Epoch 22/50\n",
            "35/35 - 7s - loss: 0.0067 - 7s/epoch - 193ms/step\n",
            "Epoch 23/50\n",
            "35/35 - 7s - loss: 0.0043 - 7s/epoch - 195ms/step\n",
            "Epoch 24/50\n",
            "35/35 - 7s - loss: 0.0044 - 7s/epoch - 193ms/step\n",
            "Epoch 25/50\n",
            "35/35 - 7s - loss: 0.0040 - 7s/epoch - 193ms/step\n",
            "Epoch 26/50\n",
            "35/35 - 7s - loss: 0.0039 - 7s/epoch - 194ms/step\n",
            "Epoch 27/50\n",
            "35/35 - 7s - loss: 0.0041 - 7s/epoch - 195ms/step\n",
            "Epoch 28/50\n",
            "35/35 - 7s - loss: 0.0041 - 7s/epoch - 194ms/step\n",
            "Epoch 29/50\n",
            "35/35 - 7s - loss: 0.0040 - 7s/epoch - 193ms/step\n",
            "Epoch 30/50\n",
            "35/35 - 7s - loss: 0.0040 - 7s/epoch - 193ms/step\n",
            "Epoch 31/50\n",
            "35/35 - 7s - loss: 0.0036 - 7s/epoch - 193ms/step\n",
            "Epoch 32/50\n",
            "35/35 - 7s - loss: 0.0035 - 7s/epoch - 194ms/step\n",
            "Epoch 33/50\n",
            "35/35 - 7s - loss: 0.0033 - 7s/epoch - 194ms/step\n",
            "Epoch 34/50\n",
            "35/35 - 7s - loss: 0.0031 - 7s/epoch - 193ms/step\n",
            "Epoch 35/50\n",
            "35/35 - 7s - loss: 0.0033 - 7s/epoch - 193ms/step\n",
            "Epoch 36/50\n",
            "35/35 - 7s - loss: 0.0031 - 7s/epoch - 193ms/step\n",
            "Epoch 37/50\n",
            "35/35 - 7s - loss: 0.0029 - 7s/epoch - 194ms/step\n",
            "Epoch 38/50\n",
            "35/35 - 7s - loss: 0.0031 - 7s/epoch - 193ms/step\n",
            "Epoch 39/50\n",
            "35/35 - 7s - loss: 0.0029 - 7s/epoch - 193ms/step\n",
            "Epoch 40/50\n",
            "35/35 - 7s - loss: 0.0031 - 7s/epoch - 193ms/step\n",
            "Epoch 41/50\n",
            "35/35 - 7s - loss: 0.0032 - 7s/epoch - 194ms/step\n",
            "Epoch 42/50\n",
            "35/35 - 7s - loss: 0.0031 - 7s/epoch - 194ms/step\n",
            "Epoch 43/50\n",
            "35/35 - 7s - loss: 0.0029 - 7s/epoch - 194ms/step\n",
            "Epoch 44/50\n",
            "35/35 - 7s - loss: 0.0033 - 7s/epoch - 193ms/step\n",
            "Epoch 45/50\n",
            "35/35 - 7s - loss: 0.0028 - 7s/epoch - 194ms/step\n",
            "Epoch 46/50\n",
            "35/35 - 7s - loss: 0.0033 - 7s/epoch - 195ms/step\n",
            "Epoch 47/50\n",
            "35/35 - 7s - loss: 0.0026 - 7s/epoch - 193ms/step\n",
            "Epoch 48/50\n",
            "35/35 - 7s - loss: 0.0034 - 7s/epoch - 193ms/step\n",
            "Epoch 49/50\n",
            "35/35 - 7s - loss: 0.0027 - 7s/epoch - 194ms/step\n",
            "Epoch 50/50\n",
            "35/35 - 7s - loss: 0.0026 - 7s/epoch - 194ms/step\n"
          ]
        }
      ]
    },
    {
      "cell_type": "code",
      "metadata": {
        "colab": {
          "base_uri": "https://localhost:8080/",
          "height": 295
        },
        "id": "TL1cN9xH21Kj",
        "outputId": "cf3a63ff-f9b5-459f-ed94-b3293f01c55f"
      },
      "source": [
        "plt.plot(hist.history['loss'])\n",
        "plt.title('Training model loss')\n",
        "plt.ylabel('loss')\n",
        "plt.xlabel('epoch')\n",
        "plt.legend(['train'], loc='upper right')\n",
        "plt.show()"
      ],
      "execution_count": null,
      "outputs": [
        {
          "output_type": "display_data",
          "data": {
            "image/png": "[encoded data removed]",
            "text/plain": [
              "<Figure size 432x288 with 1 Axes>"
            ]
          },
          "metadata": {
            "needs_background": "light"
          }
        }
      ]
    },
    {
      "cell_type": "code",
      "metadata": {
        "colab": {
          "base_uri": "https://localhost:8080/"
        },
        "id": "S7gHt-oo3Z44",
        "outputId": "fbc87631-94ef-470b-f5e1-5f576e216c05"
      },
      "source": [
        "testData = pd.read_csv('Google_test_data.csv')     \n",
        "testData[\"Close\"]=pd.to_numeric(testData.Close,errors='coerce')\n",
        "testData = testData.dropna()\n",
        "testData = testData.iloc[:,4:5]\n",
        "y_test = testData.iloc[60:,0:].values \n",
        "\n",
        "inputClosing = testData.iloc[:,0:].values        \n",
        "inputClosing_scaled = sc.transform(inputClosing)\n",
        "inputClosing_scaled.shape\n",
        "X_test = []\n",
        "length = len(testData)\n",
        "timestep = 60                                    \n",
        "for i in range(timestep,length):  \n",
        "    X_test.append(inputClosing_scaled[i-timestep:i,0])\n",
        "X_test = np.array(X_test)\n",
        "X_test = np.reshape(X_test,(X_test.shape[0],X_test.shape[1],1))\n",
        "X_test.shape"
      ],
      "execution_count": null,
      "outputs": [
        {
          "output_type": "execute_result",
          "data": {
            "text/plain": [
              "(192, 60, 1)"
            ]
          },
          "metadata": {},
          "execution_count": 80
        }
      ]
    },
    {
      "cell_type": "code",
      "metadata": {
        "colab": {
          "base_uri": "https://localhost:8080/"
        },
        "id": "RonWEHcs3eWD",
        "outputId": "622b3480-021e-4623-b678-0edfd0e95bf8"
      },
      "source": [
        "y_pred = model.predict(X_test)\n",
        "y_pred"
      ],
      "execution_count": null,
      "outputs": [
        {
          "output_type": "execute_result",
          "data": {
            "text/plain": [
              "array([[1.2159827],\n",
              "       [1.2311333],\n",
              "       [1.299446 ],\n",
              "       [1.300936 ],\n",
              "       [1.2655526],\n",
              "       [1.2121618],\n",
              "       [1.2012147],\n",
              "       [1.2208445],\n",
              "       [1.2628821],\n",
              "       [1.267455 ],\n",
              "       [1.1961247],\n",
              "       [1.1809108],\n",
              "       [1.203422 ],\n",
              "       [1.195078 ],\n",
              "       [1.2248135],\n",
              "       [1.2280328],\n",
              "       [1.2844226],\n",
              "       [1.3017806],\n",
              "       [1.3064729],\n",
              "       [1.3234043],\n",
              "       [1.2382916],\n",
              "       [1.2513463],\n",
              "       [1.2201188],\n",
              "       [1.2210516],\n",
              "       [1.2453508],\n",
              "       [1.2697413],\n",
              "       [1.2673082],\n",
              "       [1.2283998],\n",
              "       [1.1758486],\n",
              "       [1.1833677],\n",
              "       [1.1870743],\n",
              "       [1.1686342],\n",
              "       [1.1172725],\n",
              "       [1.0945661],\n",
              "       [1.1790075],\n",
              "       [1.2247338],\n",
              "       [1.2141892],\n",
              "       [1.1965936],\n",
              "       [1.2056596],\n",
              "       [1.1692816],\n",
              "       [1.2388636],\n",
              "       [1.2675997],\n",
              "       [1.279559 ],\n",
              "       [1.2755013],\n",
              "       [1.2664256],\n",
              "       [1.2462134],\n",
              "       [1.22612  ],\n",
              "       [1.2758359],\n",
              "       [1.3002194],\n",
              "       [1.3131486],\n",
              "       [1.3230319],\n",
              "       [1.2768111],\n",
              "       [1.274081 ],\n",
              "       [1.2783796],\n",
              "       [1.3098063],\n",
              "       [1.2843243],\n",
              "       [1.2591362],\n",
              "       [1.2995391],\n",
              "       [1.3551687],\n",
              "       [1.3521388],\n",
              "       [1.377773 ],\n",
              "       [1.4014546],\n",
              "       [1.3500247],\n",
              "       [1.3161287],\n",
              "       [1.3156154],\n",
              "       [1.3259495],\n",
              "       [1.374242 ],\n",
              "       [1.3782865],\n",
              "       [1.372182 ],\n",
              "       [1.3528775],\n",
              "       [1.357967 ],\n",
              "       [1.3537388],\n",
              "       [1.3262712],\n",
              "       [1.3461012],\n",
              "       [1.3514619],\n",
              "       [1.3599131],\n",
              "       [1.3603419],\n",
              "       [1.3643461],\n",
              "       [1.3989223],\n",
              "       [1.4137802],\n",
              "       [1.4354459],\n",
              "       [1.4273435],\n",
              "       [1.3998572],\n",
              "       [1.4001616],\n",
              "       [1.4654366],\n",
              "       [1.5030979],\n",
              "       [1.4970368],\n",
              "       [1.4754988],\n",
              "       [1.4740723],\n",
              "       [1.4796313],\n",
              "       [1.5113606],\n",
              "       [1.5583097],\n",
              "       [1.5659692],\n",
              "       [1.5073477],\n",
              "       [1.4870706],\n",
              "       [1.4823323],\n",
              "       [1.4701902],\n",
              "       [1.4664209],\n",
              "       [1.4761153],\n",
              "       [1.5120095],\n",
              "       [1.5168036],\n",
              "       [1.5176582],\n",
              "       [1.5293951],\n",
              "       [1.5125421],\n",
              "       [1.5082306],\n",
              "       [1.500657 ],\n",
              "       [1.5151757],\n",
              "       [1.5223196],\n",
              "       [1.5462774],\n",
              "       [1.5482941],\n",
              "       [1.5555271],\n",
              "       [1.5707031],\n",
              "       [1.5684606],\n",
              "       [1.5927622],\n",
              "       [1.6214632],\n",
              "       [1.5984281],\n",
              "       [1.6154305],\n",
              "       [1.6335557],\n",
              "       [1.6629511],\n",
              "       [1.4470582],\n",
              "       [1.4454817],\n",
              "       [1.464044 ],\n",
              "       [1.5189198],\n",
              "       [1.5202198],\n",
              "       [1.4745536],\n",
              "       [1.4484782],\n",
              "       [1.4398799],\n",
              "       [1.4457889],\n",
              "       [1.388767 ],\n",
              "       [1.3660408],\n",
              "       [1.4460101],\n",
              "       [1.480888 ],\n",
              "       [1.4415237],\n",
              "       [1.388435 ],\n",
              "       [1.4086761],\n",
              "       [1.4230034],\n",
              "       [1.4079839],\n",
              "       [1.3934673],\n",
              "       [1.3947688],\n",
              "       [1.3659731],\n",
              "       [1.36609  ],\n",
              "       [1.3442892],\n",
              "       [1.2273669],\n",
              "       [1.2369858],\n",
              "       [1.2370298],\n",
              "       [1.2404912],\n",
              "       [1.2702217],\n",
              "       [1.2942524],\n",
              "       [1.2880851],\n",
              "       [1.2759607],\n",
              "       [1.2906026],\n",
              "       [1.2915987],\n",
              "       [1.3042027],\n",
              "       [1.3268228],\n",
              "       [1.3299389],\n",
              "       [1.3439618],\n",
              "       [1.364077 ],\n",
              "       [1.3564515],\n",
              "       [1.3054491],\n",
              "       [1.2895883],\n",
              "       [1.289659 ],\n",
              "       [1.3028551],\n",
              "       [1.3328243],\n",
              "       [1.355941 ],\n",
              "       [1.369055 ],\n",
              "       [1.3806349],\n",
              "       [1.3527691],\n",
              "       [1.3627776],\n",
              "       [1.3959125],\n",
              "       [1.4088159],\n",
              "       [1.4092472],\n",
              "       [1.4174101],\n",
              "       [1.4244566],\n",
              "       [1.4130214],\n",
              "       [1.4131927],\n",
              "       [1.3874773],\n",
              "       [1.4015807],\n",
              "       [1.4203707],\n",
              "       [1.4060774],\n",
              "       [1.3912506],\n",
              "       [1.5881367],\n",
              "       [1.5768358],\n",
              "       [1.5258535],\n",
              "       [1.5092026],\n",
              "       [1.5093573],\n",
              "       [1.49637  ],\n",
              "       [1.4282129],\n",
              "       [1.470675 ],\n",
              "       [1.4862896],\n",
              "       [1.5370771],\n",
              "       [1.4952266],\n",
              "       [1.4594443]], dtype=float32)"
            ]
          },
          "metadata": {},
          "execution_count": 81
        }
      ]
    },
    {
      "cell_type": "code",
      "metadata": {
        "id": "ZN_OfX9K3gm9"
      },
      "source": [
        "predicted_price = sc.inverse_transform(y_pred)          "
      ],
      "execution_count": null,
      "outputs": []
    },
    {
      "cell_type": "code",
      "metadata": {
        "id": "eHSdAKAx3lJr",
        "colab": {
          "base_uri": "https://localhost:8080/",
          "height": 295
        },
        "outputId": "506af36a-27d2-4a6b-c26d-137ce0b6194e"
      },
      "source": [
        "plt.plot(y_test, color = 'red', label = 'Actual Stock Price')\n",
        "plt.plot(predicted_price, color = 'green', label = 'Predicted Stock Price')\n",
        "plt.title('Google stock price prediction')\n",
        "plt.xlabel('Time')\n",
        "plt.ylabel('Stock Price')\n",
        "plt.legend()\n",
        "plt.show()"
      ],
      "execution_count": null,
      "outputs": [
        {
          "output_type": "display_data",
          "data": {
            "image/png": "[encoded data removed]",
            "text/plain": [
              "<Figure size 432x288 with 1 Axes>"
            ]
          },
          "metadata": {
            "needs_background": "light"
          }
        }
      ]
    },
    {
      "cell_type": "code",
      "metadata": {
        "id": "mIrcPsZP3nlx"
      },
      "source": [],
      "execution_count": null,
      "outputs": []
    }
  ]
}